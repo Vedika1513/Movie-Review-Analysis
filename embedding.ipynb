{
 "cells": [
  {
   "cell_type": "code",
   "execution_count": 1,
   "metadata": {},
   "outputs": [
    {
     "ename": "RuntimeError",
     "evalue": "module was compiled against NumPy C-API version 0x10 (NumPy 1.23) but the running NumPy has C-API version 0xf. Check the section C-API incompatibility at the Troubleshooting ImportError section at https://numpy.org/devdocs/user/troubleshooting-importerror.html#c-api-incompatibility for indications on how to solve this problem.",
     "output_type": "error",
     "traceback": [
      "\u001b[1;31m---------------------------------------------------------------------------\u001b[0m",
      "\u001b[1;31mRuntimeError\u001b[0m                              Traceback (most recent call last)",
      "\u001b[1;31mRuntimeError\u001b[0m: module was compiled against NumPy C-API version 0x10 (NumPy 1.23) but the running NumPy has C-API version 0xf. Check the section C-API incompatibility at the Troubleshooting ImportError section at https://numpy.org/devdocs/user/troubleshooting-importerror.html#c-api-incompatibility for indications on how to solve this problem."
     ]
    }
   ],
   "source": [
    "from tensorflow.keras.preprocessing.text import one_hot "
   ]
  },
  {
   "cell_type": "code",
   "execution_count": 2,
   "metadata": {},
   "outputs": [],
   "source": [
    "# Sentences\n",
    "sent=[ 'the glass of milk',\n",
    "      'the glass of juice',\n",
    "      'the cup of tea',\n",
    "      'I am a good girl',\n",
    "      'I am a good developer',\n",
    "      'Understand the meaning of words',\n",
    "      'your videos are good',]"
   ]
  },
  {
   "cell_type": "code",
   "execution_count": 3,
   "metadata": {},
   "outputs": [
    {
     "data": {
      "text/plain": [
       "['the glass of milk',\n",
       " 'the glass of juice',\n",
       " 'the cup of tea',\n",
       " 'I am a good girl',\n",
       " 'I am a good developer',\n",
       " 'Understand the meaning of words',\n",
       " 'your videos are good']"
      ]
     },
     "execution_count": 3,
     "metadata": {},
     "output_type": "execute_result"
    }
   ],
   "source": [
    "sent"
   ]
  },
  {
   "cell_type": "code",
   "execution_count": 4,
   "metadata": {},
   "outputs": [],
   "source": [
    "# Define the vocabulary size\n",
    "voc_size=10000"
   ]
  },
  {
   "cell_type": "code",
   "execution_count": 5,
   "metadata": {},
   "outputs": [
    {
     "data": {
      "text/plain": [
       "[[9715, 9824, 3112, 9868],\n",
       " [9715, 9824, 3112, 6988],\n",
       " [9715, 3134, 3112, 1545],\n",
       " [6466, 7302, 1421, 3926, 3711],\n",
       " [6466, 7302, 1421, 3926, 3372],\n",
       " [4254, 9715, 7165, 3112, 3219],\n",
       " [9621, 6772, 9450, 3926]]"
      ]
     },
     "execution_count": 5,
     "metadata": {},
     "output_type": "execute_result"
    }
   ],
   "source": [
    "# One Hot Representation\n",
    "one_hot_repr=[one_hot(words,voc_size)for words in sent]\n",
    "one_hot_repr"
   ]
  },
  {
   "cell_type": "code",
   "execution_count": 6,
   "metadata": {},
   "outputs": [],
   "source": [
    "# Word Embedding Representation\n",
    "\n",
    "from tensorflow.keras.layers import Embedding\n",
    "#from tensorflow.keras.processing.sequence import pad_sequences\n",
    "from tensorflow.keras.utils import pad_sequences\n",
    "from tensorflow.keras.models import Sequential"
   ]
  },
  {
   "cell_type": "code",
   "execution_count": 7,
   "metadata": {},
   "outputs": [
    {
     "name": "stdout",
     "output_type": "stream",
     "text": [
      "1.22.4\n"
     ]
    }
   ],
   "source": [
    "import numpy as np\n",
    "print(np.__version__)"
   ]
  },
  {
   "cell_type": "code",
   "execution_count": 8,
   "metadata": {},
   "outputs": [
    {
     "name": "stdout",
     "output_type": "stream",
     "text": [
      "Collecting numpy==1.23.0\n",
      "  Using cached numpy-1.23.0-cp39-cp39-win_amd64.whl.metadata (2.2 kB)\n",
      "Using cached numpy-1.23.0-cp39-cp39-win_amd64.whl (14.7 MB)\n",
      "Installing collected packages: numpy\n",
      "  Attempting uninstall: numpy\n",
      "    Found existing installation: numpy 1.22.4\n",
      "    Uninstalling numpy-1.22.4:\n",
      "      Successfully uninstalled numpy-1.22.4\n",
      "  Rolling back uninstall of numpy\n",
      "  Moving to c:\\users\\hp\\appdata\\roaming\\python\\python39\\scripts\\f2py.exe\n",
      "   from C:\\Users\\HP\\AppData\\Local\\Temp\\pip-uninstall-tnx4elio\\f2py.exe\n",
      "  Moving to c:\\users\\hp\\appdata\\roaming\\python\\python39\\site-packages\\numpy-1.22.4.dist-info\\\n",
      "   from C:\\Users\\HP\\AppData\\Roaming\\Python\\Python39\\site-packages\\~umpy-1.22.4.dist-info\n",
      "  Moving to c:\\users\\hp\\appdata\\roaming\\python\\python39\\site-packages\\numpy\\\n",
      "   from C:\\Users\\HP\\AppData\\Roaming\\Python\\Python39\\site-packages\\~umpy\n",
      "Note: you may need to restart the kernel to use updated packages.\n"
     ]
    },
    {
     "name": "stderr",
     "output_type": "stream",
     "text": [
      "ERROR: Could not install packages due to an OSError: [WinError 5] Access is denied: 'c:\\\\ProgramData\\\\Anaconda3\\\\envs\\\\clean_env\\\\Lib\\\\site-packages\\\\numpy\\\\__config__.py'\n",
      "Consider using the `--user` option or check the permissions.\n",
      "\n"
     ]
    }
   ],
   "source": [
    "pip install numpy==1.23.0"
   ]
  },
  {
   "cell_type": "code",
   "execution_count": 9,
   "metadata": {},
   "outputs": [],
   "source": [
    "import numpy as np"
   ]
  },
  {
   "cell_type": "code",
   "execution_count": 10,
   "metadata": {},
   "outputs": [
    {
     "name": "stdout",
     "output_type": "stream",
     "text": [
      "[[   0    0    0    0 9715 9824 3112 9868]\n",
      " [   0    0    0    0 9715 9824 3112 6988]\n",
      " [   0    0    0    0 9715 3134 3112 1545]\n",
      " [   0    0    0 6466 7302 1421 3926 3711]\n",
      " [   0    0    0 6466 7302 1421 3926 3372]\n",
      " [   0    0    0 4254 9715 7165 3112 3219]\n",
      " [   0    0    0    0 9621 6772 9450 3926]]\n"
     ]
    }
   ],
   "source": [
    "sent_length=8\n",
    "embedded_docs=pad_sequences(one_hot_repr,padding='pre',maxlen=sent_length)\n",
    "print(embedded_docs)"
   ]
  },
  {
   "cell_type": "code",
   "execution_count": 11,
   "metadata": {},
   "outputs": [],
   "source": [
    "# Feature Representation\n",
    "dim=10"
   ]
  },
  {
   "cell_type": "code",
   "execution_count": 12,
   "metadata": {},
   "outputs": [
    {
     "name": "stderr",
     "output_type": "stream",
     "text": [
      "c:\\ProgramData\\Anaconda3\\envs\\clean_env\\lib\\site-packages\\keras\\src\\layers\\core\\embedding.py:90: UserWarning: Argument `input_length` is deprecated. Just remove it.\n",
      "  warnings.warn(\n"
     ]
    }
   ],
   "source": [
    "model=Sequential()\n",
    "model.add(Embedding(voc_size,dim,input_length=sent_length))\n",
    "model.compile('adam','mse')"
   ]
  },
  {
   "cell_type": "code",
   "execution_count": 18,
   "metadata": {},
   "outputs": [
    {
     "data": {
      "text/html": [
       "<pre style=\"white-space:pre;overflow-x:auto;line-height:normal;font-family:Menlo,'DejaVu Sans Mono',consolas,'Courier New',monospace\"><span style=\"font-weight: bold\">Model: \"sequential\"</span>\n",
       "</pre>\n"
      ],
      "text/plain": [
       "\u001b[1mModel: \"sequential\"\u001b[0m\n"
      ]
     },
     "metadata": {},
     "output_type": "display_data"
    },
    {
     "data": {
      "text/html": [
       "<pre style=\"white-space:pre;overflow-x:auto;line-height:normal;font-family:Menlo,'DejaVu Sans Mono',consolas,'Courier New',monospace\">┏━━━━━━━━━━━━━━━━━━━━━━━━━━━━━━━━━┳━━━━━━━━━━━━━━━━━━━━━━━━┳━━━━━━━━━━━━━━━┓\n",
       "┃<span style=\"font-weight: bold\"> Layer (type)                    </span>┃<span style=\"font-weight: bold\"> Output Shape           </span>┃<span style=\"font-weight: bold\">       Param # </span>┃\n",
       "┡━━━━━━━━━━━━━━━━━━━━━━━━━━━━━━━━━╇━━━━━━━━━━━━━━━━━━━━━━━━╇━━━━━━━━━━━━━━━┩\n",
       "│ embedding (<span style=\"color: #0087ff; text-decoration-color: #0087ff\">Embedding</span>)           │ (<span style=\"color: #00af00; text-decoration-color: #00af00\">7</span>, <span style=\"color: #00af00; text-decoration-color: #00af00\">8</span>, <span style=\"color: #00af00; text-decoration-color: #00af00\">10</span>)             │       <span style=\"color: #00af00; text-decoration-color: #00af00\">100,000</span> │\n",
       "└─────────────────────────────────┴────────────────────────┴───────────────┘\n",
       "</pre>\n"
      ],
      "text/plain": [
       "┏━━━━━━━━━━━━━━━━━━━━━━━━━━━━━━━━━┳━━━━━━━━━━━━━━━━━━━━━━━━┳━━━━━━━━━━━━━━━┓\n",
       "┃\u001b[1m \u001b[0m\u001b[1mLayer (type)                   \u001b[0m\u001b[1m \u001b[0m┃\u001b[1m \u001b[0m\u001b[1mOutput Shape          \u001b[0m\u001b[1m \u001b[0m┃\u001b[1m \u001b[0m\u001b[1m      Param #\u001b[0m\u001b[1m \u001b[0m┃\n",
       "┡━━━━━━━━━━━━━━━━━━━━━━━━━━━━━━━━━╇━━━━━━━━━━━━━━━━━━━━━━━━╇━━━━━━━━━━━━━━━┩\n",
       "│ embedding (\u001b[38;5;33mEmbedding\u001b[0m)           │ (\u001b[38;5;34m7\u001b[0m, \u001b[38;5;34m8\u001b[0m, \u001b[38;5;34m10\u001b[0m)             │       \u001b[38;5;34m100,000\u001b[0m │\n",
       "└─────────────────────────────────┴────────────────────────┴───────────────┘\n"
      ]
     },
     "metadata": {},
     "output_type": "display_data"
    },
    {
     "data": {
      "text/html": [
       "<pre style=\"white-space:pre;overflow-x:auto;line-height:normal;font-family:Menlo,'DejaVu Sans Mono',consolas,'Courier New',monospace\"><span style=\"font-weight: bold\"> Total params: </span><span style=\"color: #00af00; text-decoration-color: #00af00\">100,000</span> (390.62 KB)\n",
       "</pre>\n"
      ],
      "text/plain": [
       "\u001b[1m Total params: \u001b[0m\u001b[38;5;34m100,000\u001b[0m (390.62 KB)\n"
      ]
     },
     "metadata": {},
     "output_type": "display_data"
    },
    {
     "data": {
      "text/html": [
       "<pre style=\"white-space:pre;overflow-x:auto;line-height:normal;font-family:Menlo,'DejaVu Sans Mono',consolas,'Courier New',monospace\"><span style=\"font-weight: bold\"> Trainable params: </span><span style=\"color: #00af00; text-decoration-color: #00af00\">100,000</span> (390.62 KB)\n",
       "</pre>\n"
      ],
      "text/plain": [
       "\u001b[1m Trainable params: \u001b[0m\u001b[38;5;34m100,000\u001b[0m (390.62 KB)\n"
      ]
     },
     "metadata": {},
     "output_type": "display_data"
    },
    {
     "data": {
      "text/html": [
       "<pre style=\"white-space:pre;overflow-x:auto;line-height:normal;font-family:Menlo,'DejaVu Sans Mono',consolas,'Courier New',monospace\"><span style=\"font-weight: bold\"> Non-trainable params: </span><span style=\"color: #00af00; text-decoration-color: #00af00\">0</span> (0.00 B)\n",
       "</pre>\n"
      ],
      "text/plain": [
       "\u001b[1m Non-trainable params: \u001b[0m\u001b[38;5;34m0\u001b[0m (0.00 B)\n"
      ]
     },
     "metadata": {},
     "output_type": "display_data"
    }
   ],
   "source": [
    "model.summary()"
   ]
  },
  {
   "cell_type": "code",
   "execution_count": 14,
   "metadata": {},
   "outputs": [
    {
     "name": "stdout",
     "output_type": "stream",
     "text": [
      "\u001b[1m1/1\u001b[0m \u001b[32m━━━━━━━━━━━━━━━━━━━━\u001b[0m\u001b[37m\u001b[0m \u001b[1m0s\u001b[0m 198ms/step\n"
     ]
    },
    {
     "data": {
      "text/plain": [
       "array([[[-1.06665604e-02,  7.66883045e-03,  1.71587951e-02,\n",
       "          9.29434225e-03, -2.46124025e-02,  4.77636717e-02,\n",
       "         -3.70940343e-02,  4.28970195e-02,  1.26508623e-03,\n",
       "          4.12676595e-02],\n",
       "        [-1.06665604e-02,  7.66883045e-03,  1.71587951e-02,\n",
       "          9.29434225e-03, -2.46124025e-02,  4.77636717e-02,\n",
       "         -3.70940343e-02,  4.28970195e-02,  1.26508623e-03,\n",
       "          4.12676595e-02],\n",
       "        [-1.06665604e-02,  7.66883045e-03,  1.71587951e-02,\n",
       "          9.29434225e-03, -2.46124025e-02,  4.77636717e-02,\n",
       "         -3.70940343e-02,  4.28970195e-02,  1.26508623e-03,\n",
       "          4.12676595e-02],\n",
       "        [-1.06665604e-02,  7.66883045e-03,  1.71587951e-02,\n",
       "          9.29434225e-03, -2.46124025e-02,  4.77636717e-02,\n",
       "         -3.70940343e-02,  4.28970195e-02,  1.26508623e-03,\n",
       "          4.12676595e-02],\n",
       "        [-3.74022126e-02,  4.56348062e-05,  1.13651529e-02,\n",
       "         -2.79394034e-02,  3.47833969e-02,  2.19847821e-02,\n",
       "          1.76644661e-02, -2.54093651e-02,  1.20831653e-03,\n",
       "          1.71577223e-02],\n",
       "        [ 2.40685381e-02,  3.73096578e-02, -3.05369385e-02,\n",
       "         -5.02977520e-03,  2.14951895e-02,  4.81082834e-02,\n",
       "          4.09154035e-02,  2.49261893e-02, -4.57155108e-02,\n",
       "         -1.80763118e-02],\n",
       "        [-3.09271701e-02,  1.74651481e-02, -2.97857281e-02,\n",
       "          2.17277743e-02, -2.35777032e-02,  7.13809580e-03,\n",
       "         -2.29005944e-02,  1.27752908e-02, -2.53818873e-02,\n",
       "          2.08887197e-02],\n",
       "        [-1.21977180e-03,  1.38131119e-02, -4.84520309e-02,\n",
       "         -5.80858067e-03,  1.76872276e-02, -3.83884534e-02,\n",
       "         -4.90482226e-02, -4.14734855e-02,  3.33587192e-02,\n",
       "          3.69462408e-02]],\n",
       "\n",
       "       [[-1.06665604e-02,  7.66883045e-03,  1.71587951e-02,\n",
       "          9.29434225e-03, -2.46124025e-02,  4.77636717e-02,\n",
       "         -3.70940343e-02,  4.28970195e-02,  1.26508623e-03,\n",
       "          4.12676595e-02],\n",
       "        [-1.06665604e-02,  7.66883045e-03,  1.71587951e-02,\n",
       "          9.29434225e-03, -2.46124025e-02,  4.77636717e-02,\n",
       "         -3.70940343e-02,  4.28970195e-02,  1.26508623e-03,\n",
       "          4.12676595e-02],\n",
       "        [-1.06665604e-02,  7.66883045e-03,  1.71587951e-02,\n",
       "          9.29434225e-03, -2.46124025e-02,  4.77636717e-02,\n",
       "         -3.70940343e-02,  4.28970195e-02,  1.26508623e-03,\n",
       "          4.12676595e-02],\n",
       "        [-1.06665604e-02,  7.66883045e-03,  1.71587951e-02,\n",
       "          9.29434225e-03, -2.46124025e-02,  4.77636717e-02,\n",
       "         -3.70940343e-02,  4.28970195e-02,  1.26508623e-03,\n",
       "          4.12676595e-02],\n",
       "        [-3.74022126e-02,  4.56348062e-05,  1.13651529e-02,\n",
       "         -2.79394034e-02,  3.47833969e-02,  2.19847821e-02,\n",
       "          1.76644661e-02, -2.54093651e-02,  1.20831653e-03,\n",
       "          1.71577223e-02],\n",
       "        [ 2.40685381e-02,  3.73096578e-02, -3.05369385e-02,\n",
       "         -5.02977520e-03,  2.14951895e-02,  4.81082834e-02,\n",
       "          4.09154035e-02,  2.49261893e-02, -4.57155108e-02,\n",
       "         -1.80763118e-02],\n",
       "        [-3.09271701e-02,  1.74651481e-02, -2.97857281e-02,\n",
       "          2.17277743e-02, -2.35777032e-02,  7.13809580e-03,\n",
       "         -2.29005944e-02,  1.27752908e-02, -2.53818873e-02,\n",
       "          2.08887197e-02],\n",
       "        [ 3.52609269e-02, -1.05226040e-02, -2.95012724e-02,\n",
       "          1.47687532e-02, -3.15553918e-02, -3.29301357e-02,\n",
       "          4.44529764e-02,  1.11293793e-02,  3.57213356e-02,\n",
       "          1.25059150e-02]],\n",
       "\n",
       "       [[-1.06665604e-02,  7.66883045e-03,  1.71587951e-02,\n",
       "          9.29434225e-03, -2.46124025e-02,  4.77636717e-02,\n",
       "         -3.70940343e-02,  4.28970195e-02,  1.26508623e-03,\n",
       "          4.12676595e-02],\n",
       "        [-1.06665604e-02,  7.66883045e-03,  1.71587951e-02,\n",
       "          9.29434225e-03, -2.46124025e-02,  4.77636717e-02,\n",
       "         -3.70940343e-02,  4.28970195e-02,  1.26508623e-03,\n",
       "          4.12676595e-02],\n",
       "        [-1.06665604e-02,  7.66883045e-03,  1.71587951e-02,\n",
       "          9.29434225e-03, -2.46124025e-02,  4.77636717e-02,\n",
       "         -3.70940343e-02,  4.28970195e-02,  1.26508623e-03,\n",
       "          4.12676595e-02],\n",
       "        [-1.06665604e-02,  7.66883045e-03,  1.71587951e-02,\n",
       "          9.29434225e-03, -2.46124025e-02,  4.77636717e-02,\n",
       "         -3.70940343e-02,  4.28970195e-02,  1.26508623e-03,\n",
       "          4.12676595e-02],\n",
       "        [-3.74022126e-02,  4.56348062e-05,  1.13651529e-02,\n",
       "         -2.79394034e-02,  3.47833969e-02,  2.19847821e-02,\n",
       "          1.76644661e-02, -2.54093651e-02,  1.20831653e-03,\n",
       "          1.71577223e-02],\n",
       "        [ 4.28244136e-02,  3.80801819e-02,  4.91611995e-02,\n",
       "          2.70380862e-02, -3.67066488e-02, -2.94213891e-02,\n",
       "          1.30688660e-02, -2.25039721e-02,  1.97853185e-02,\n",
       "         -3.99793759e-02],\n",
       "        [-3.09271701e-02,  1.74651481e-02, -2.97857281e-02,\n",
       "          2.17277743e-02, -2.35777032e-02,  7.13809580e-03,\n",
       "         -2.29005944e-02,  1.27752908e-02, -2.53818873e-02,\n",
       "          2.08887197e-02],\n",
       "        [-1.62297376e-02,  3.88456509e-03,  3.06140669e-02,\n",
       "         -1.60693303e-02,  3.75636928e-02, -4.28274758e-02,\n",
       "          3.58146913e-02, -4.18276712e-03,  2.89406665e-02,\n",
       "         -9.55493376e-03]],\n",
       "\n",
       "       [[-1.06665604e-02,  7.66883045e-03,  1.71587951e-02,\n",
       "          9.29434225e-03, -2.46124025e-02,  4.77636717e-02,\n",
       "         -3.70940343e-02,  4.28970195e-02,  1.26508623e-03,\n",
       "          4.12676595e-02],\n",
       "        [-1.06665604e-02,  7.66883045e-03,  1.71587951e-02,\n",
       "          9.29434225e-03, -2.46124025e-02,  4.77636717e-02,\n",
       "         -3.70940343e-02,  4.28970195e-02,  1.26508623e-03,\n",
       "          4.12676595e-02],\n",
       "        [-1.06665604e-02,  7.66883045e-03,  1.71587951e-02,\n",
       "          9.29434225e-03, -2.46124025e-02,  4.77636717e-02,\n",
       "         -3.70940343e-02,  4.28970195e-02,  1.26508623e-03,\n",
       "          4.12676595e-02],\n",
       "        [-1.92987211e-02,  4.90095653e-02, -3.40931788e-02,\n",
       "          1.30025409e-02, -1.64454579e-02,  2.72275843e-02,\n",
       "          2.94927619e-02,  4.83822562e-02, -6.61646202e-03,\n",
       "          2.14715041e-02],\n",
       "        [ 6.66756555e-03,  1.64160021e-02, -4.41511869e-02,\n",
       "         -3.88240702e-02,  1.44048966e-02,  3.77683900e-02,\n",
       "          1.68513320e-02, -4.71749678e-02, -3.58130336e-02,\n",
       "          4.12986912e-02],\n",
       "        [ 3.53492014e-02,  4.59335744e-04,  1.81627907e-02,\n",
       "         -1.90927871e-02, -3.45385782e-02, -2.33279597e-02,\n",
       "         -1.71449184e-02,  4.87396605e-02, -4.25904877e-02,\n",
       "         -4.39198129e-02],\n",
       "        [ 2.31326707e-02, -4.65999506e-02,  4.69844826e-02,\n",
       "          1.80323049e-03, -2.12965365e-02,  1.44501440e-02,\n",
       "          2.09918730e-02,  4.17546965e-02,  8.52774829e-04,\n",
       "          2.94190384e-02],\n",
       "        [ 1.22432485e-02, -1.80612691e-02,  1.28927119e-02,\n",
       "          2.52180360e-02, -3.93789522e-02, -1.95326935e-02,\n",
       "          1.90600418e-02,  3.62789072e-02, -3.07515394e-02,\n",
       "         -2.99386736e-02]],\n",
       "\n",
       "       [[-1.06665604e-02,  7.66883045e-03,  1.71587951e-02,\n",
       "          9.29434225e-03, -2.46124025e-02,  4.77636717e-02,\n",
       "         -3.70940343e-02,  4.28970195e-02,  1.26508623e-03,\n",
       "          4.12676595e-02],\n",
       "        [-1.06665604e-02,  7.66883045e-03,  1.71587951e-02,\n",
       "          9.29434225e-03, -2.46124025e-02,  4.77636717e-02,\n",
       "         -3.70940343e-02,  4.28970195e-02,  1.26508623e-03,\n",
       "          4.12676595e-02],\n",
       "        [-1.06665604e-02,  7.66883045e-03,  1.71587951e-02,\n",
       "          9.29434225e-03, -2.46124025e-02,  4.77636717e-02,\n",
       "         -3.70940343e-02,  4.28970195e-02,  1.26508623e-03,\n",
       "          4.12676595e-02],\n",
       "        [-1.92987211e-02,  4.90095653e-02, -3.40931788e-02,\n",
       "          1.30025409e-02, -1.64454579e-02,  2.72275843e-02,\n",
       "          2.94927619e-02,  4.83822562e-02, -6.61646202e-03,\n",
       "          2.14715041e-02],\n",
       "        [ 6.66756555e-03,  1.64160021e-02, -4.41511869e-02,\n",
       "         -3.88240702e-02,  1.44048966e-02,  3.77683900e-02,\n",
       "          1.68513320e-02, -4.71749678e-02, -3.58130336e-02,\n",
       "          4.12986912e-02],\n",
       "        [ 3.53492014e-02,  4.59335744e-04,  1.81627907e-02,\n",
       "         -1.90927871e-02, -3.45385782e-02, -2.33279597e-02,\n",
       "         -1.71449184e-02,  4.87396605e-02, -4.25904877e-02,\n",
       "         -4.39198129e-02],\n",
       "        [ 2.31326707e-02, -4.65999506e-02,  4.69844826e-02,\n",
       "          1.80323049e-03, -2.12965365e-02,  1.44501440e-02,\n",
       "          2.09918730e-02,  4.17546965e-02,  8.52774829e-04,\n",
       "          2.94190384e-02],\n",
       "        [-1.20468363e-02, -2.78364867e-04,  4.01468202e-03,\n",
       "         -4.41321991e-02, -1.52173266e-02, -2.73303874e-02,\n",
       "          1.45432390e-02,  1.97725184e-02, -1.62002668e-02,\n",
       "          1.69316195e-02]],\n",
       "\n",
       "       [[-1.06665604e-02,  7.66883045e-03,  1.71587951e-02,\n",
       "          9.29434225e-03, -2.46124025e-02,  4.77636717e-02,\n",
       "         -3.70940343e-02,  4.28970195e-02,  1.26508623e-03,\n",
       "          4.12676595e-02],\n",
       "        [-1.06665604e-02,  7.66883045e-03,  1.71587951e-02,\n",
       "          9.29434225e-03, -2.46124025e-02,  4.77636717e-02,\n",
       "         -3.70940343e-02,  4.28970195e-02,  1.26508623e-03,\n",
       "          4.12676595e-02],\n",
       "        [-1.06665604e-02,  7.66883045e-03,  1.71587951e-02,\n",
       "          9.29434225e-03, -2.46124025e-02,  4.77636717e-02,\n",
       "         -3.70940343e-02,  4.28970195e-02,  1.26508623e-03,\n",
       "          4.12676595e-02],\n",
       "        [ 2.39647739e-02, -3.46278064e-02, -1.22999437e-02,\n",
       "         -2.44200360e-02, -4.75964434e-02,  4.94053103e-02,\n",
       "         -1.34737119e-02,  3.99014466e-02,  6.19788095e-03,\n",
       "          1.21103153e-02],\n",
       "        [-3.74022126e-02,  4.56348062e-05,  1.13651529e-02,\n",
       "         -2.79394034e-02,  3.47833969e-02,  2.19847821e-02,\n",
       "          1.76644661e-02, -2.54093651e-02,  1.20831653e-03,\n",
       "          1.71577223e-02],\n",
       "        [-4.86210696e-02,  3.00095417e-02,  3.07663530e-03,\n",
       "         -2.40092874e-02, -2.08188891e-02, -1.12377033e-02,\n",
       "          7.92568922e-03,  2.05760710e-02, -1.51257403e-02,\n",
       "         -2.24391464e-02],\n",
       "        [-3.09271701e-02,  1.74651481e-02, -2.97857281e-02,\n",
       "          2.17277743e-02, -2.35777032e-02,  7.13809580e-03,\n",
       "         -2.29005944e-02,  1.27752908e-02, -2.53818873e-02,\n",
       "          2.08887197e-02],\n",
       "        [ 3.34699862e-02,  2.47165225e-02, -3.15568447e-02,\n",
       "         -1.28650069e-02,  9.57536697e-03,  3.82343568e-02,\n",
       "          2.57980339e-02, -4.19033654e-02, -2.15548631e-02,\n",
       "          2.62520351e-02]],\n",
       "\n",
       "       [[-1.06665604e-02,  7.66883045e-03,  1.71587951e-02,\n",
       "          9.29434225e-03, -2.46124025e-02,  4.77636717e-02,\n",
       "         -3.70940343e-02,  4.28970195e-02,  1.26508623e-03,\n",
       "          4.12676595e-02],\n",
       "        [-1.06665604e-02,  7.66883045e-03,  1.71587951e-02,\n",
       "          9.29434225e-03, -2.46124025e-02,  4.77636717e-02,\n",
       "         -3.70940343e-02,  4.28970195e-02,  1.26508623e-03,\n",
       "          4.12676595e-02],\n",
       "        [-1.06665604e-02,  7.66883045e-03,  1.71587951e-02,\n",
       "          9.29434225e-03, -2.46124025e-02,  4.77636717e-02,\n",
       "         -3.70940343e-02,  4.28970195e-02,  1.26508623e-03,\n",
       "          4.12676595e-02],\n",
       "        [-1.06665604e-02,  7.66883045e-03,  1.71587951e-02,\n",
       "          9.29434225e-03, -2.46124025e-02,  4.77636717e-02,\n",
       "         -3.70940343e-02,  4.28970195e-02,  1.26508623e-03,\n",
       "          4.12676595e-02],\n",
       "        [-3.22322622e-02,  3.82883810e-02,  6.70926645e-03,\n",
       "         -4.70507406e-02,  2.51761191e-02, -4.38546650e-02,\n",
       "         -4.70744260e-02,  2.95825638e-02,  3.07154395e-02,\n",
       "         -3.02051306e-02],\n",
       "        [ 3.31541188e-02,  1.10741258e-02, -3.42484936e-02,\n",
       "         -4.60807346e-02, -4.16105501e-02,  4.93347906e-02,\n",
       "          4.82800864e-02, -3.86852995e-02,  3.63652781e-03,\n",
       "          6.58369064e-03],\n",
       "        [-5.01958281e-03, -3.20691466e-02,  2.26427801e-02,\n",
       "          3.66195329e-02, -3.06249745e-02, -2.54771467e-02,\n",
       "         -4.27520536e-02, -1.90049540e-02,  3.47143449e-02,\n",
       "         -2.16534622e-02],\n",
       "        [ 2.31326707e-02, -4.65999506e-02,  4.69844826e-02,\n",
       "          1.80323049e-03, -2.12965365e-02,  1.44501440e-02,\n",
       "          2.09918730e-02,  4.17546965e-02,  8.52774829e-04,\n",
       "          2.94190384e-02]]], dtype=float32)"
      ]
     },
     "execution_count": 14,
     "metadata": {},
     "output_type": "execute_result"
    }
   ],
   "source": [
    "model.predict(embedded_docs)"
   ]
  },
  {
   "cell_type": "code",
   "execution_count": 15,
   "metadata": {},
   "outputs": [
    {
     "data": {
      "text/plain": [
       "array([   0,    0,    0,    0, 9715, 9824, 3112, 9868])"
      ]
     },
     "execution_count": 15,
     "metadata": {},
     "output_type": "execute_result"
    }
   ],
   "source": [
    "embedded_docs[0]"
   ]
  },
  {
   "cell_type": "code",
   "execution_count": 16,
   "metadata": {},
   "outputs": [
    {
     "name": "stdout",
     "output_type": "stream",
     "text": [
      "\u001b[1m1/1\u001b[0m \u001b[32m━━━━━━━━━━━━━━━━━━━━\u001b[0m\u001b[37m\u001b[0m \u001b[1m0s\u001b[0m 84ms/step\n",
      "[[[-0.01066656  0.00766883  0.0171588   0.00929434 -0.0246124\n",
      "    0.04776367 -0.03709403  0.04289702  0.00126509  0.04126766]\n",
      "  [-0.01066656  0.00766883  0.0171588   0.00929434 -0.0246124\n",
      "    0.04776367 -0.03709403  0.04289702  0.00126509  0.04126766]\n",
      "  [-0.01066656  0.00766883  0.0171588   0.00929434 -0.0246124\n",
      "    0.04776367 -0.03709403  0.04289702  0.00126509  0.04126766]\n",
      "  [-0.01066656  0.00766883  0.0171588   0.00929434 -0.0246124\n",
      "    0.04776367 -0.03709403  0.04289702  0.00126509  0.04126766]\n",
      "  [ 0.02400381 -0.03332794  0.02202721  0.02959469 -0.00759415\n",
      "    0.01566306  0.01206418 -0.00447742 -0.00646311  0.00643973]\n",
      "  [ 0.0490733  -0.02715178  0.03114516 -0.00464724  0.01411916\n",
      "    0.00416864 -0.04466663 -0.00926648  0.0448921  -0.01812283]\n",
      "  [ 0.04510944  0.00590315 -0.04994234 -0.04174323  0.01597517\n",
      "    0.01952269  0.01040673  0.01893045 -0.01168178  0.01025803]\n",
      "  [ 0.03052742 -0.01081253  0.01781354  0.03832148  0.00858251\n",
      "    0.02910382  0.01741704  0.04013742  0.02531221 -0.00854673]]]\n"
     ]
    }
   ],
   "source": [
    "embedded_docs = np.array([[0,0,0,0,6057, 6050, 3432,  923]])\n",
    "print(model.predict(embedded_docs))"
   ]
  },
  {
   "cell_type": "code",
   "execution_count": null,
   "metadata": {},
   "outputs": [],
   "source": []
  }
 ],
 "metadata": {
  "kernelspec": {
   "display_name": "Python (clean_env)",
   "language": "python",
   "name": "clean_env"
  },
  "language_info": {
   "codemirror_mode": {
    "name": "ipython",
    "version": 3
   },
   "file_extension": ".py",
   "mimetype": "text/x-python",
   "name": "python",
   "nbconvert_exporter": "python",
   "pygments_lexer": "ipython3",
   "version": "3.9.21"
  }
 },
 "nbformat": 4,
 "nbformat_minor": 2
}
