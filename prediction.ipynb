{
 "cells": [
  {
   "cell_type": "code",
   "execution_count": 1,
   "metadata": {},
   "outputs": [],
   "source": [
    "# Step 1 : Import Libraries and Load the Model\n",
    "import numpy as np\n",
    "import tensorflow as tf\n",
    "from tensorflow.keras.datasets import imdb\n",
    "from tensorflow.keras.preprocessing import sequence\n",
    "from tensorflow.keras.models import load_model"
   ]
  },
  {
   "cell_type": "code",
   "execution_count": 2,
   "metadata": {},
   "outputs": [],
   "source": [
    "# Load the IMDB dataset word index\n",
    "word_index = imdb.get_word_index()\n",
    "reverse_word_index = {value: key for key,value in word_index.items()}"
   ]
  },
  {
   "cell_type": "code",
   "execution_count": 3,
   "metadata": {},
   "outputs": [
    {
     "name": "stderr",
     "output_type": "stream",
     "text": [
      "WARNING:absl:Compiled the loaded model, but the compiled metrics have yet to be built. `model.compile_metrics` will be empty until you train or evaluate the model.\n"
     ]
    },
    {
     "data": {
      "text/html": [
       "<pre style=\"white-space:pre;overflow-x:auto;line-height:normal;font-family:Menlo,'DejaVu Sans Mono',consolas,'Courier New',monospace\"><span style=\"font-weight: bold\">Model: \"sequential\"</span>\n",
       "</pre>\n"
      ],
      "text/plain": [
       "\u001b[1mModel: \"sequential\"\u001b[0m\n"
      ]
     },
     "metadata": {},
     "output_type": "display_data"
    },
    {
     "data": {
      "text/html": [
       "<pre style=\"white-space:pre;overflow-x:auto;line-height:normal;font-family:Menlo,'DejaVu Sans Mono',consolas,'Courier New',monospace\">┏━━━━━━━━━━━━━━━━━━━━━━━━━━━━━━━━━┳━━━━━━━━━━━━━━━━━━━━━━━━┳━━━━━━━━━━━━━━━┓\n",
       "┃<span style=\"font-weight: bold\"> Layer (type)                    </span>┃<span style=\"font-weight: bold\"> Output Shape           </span>┃<span style=\"font-weight: bold\">       Param # </span>┃\n",
       "┡━━━━━━━━━━━━━━━━━━━━━━━━━━━━━━━━━╇━━━━━━━━━━━━━━━━━━━━━━━━╇━━━━━━━━━━━━━━━┩\n",
       "│ embedding (<span style=\"color: #0087ff; text-decoration-color: #0087ff\">Embedding</span>)           │ (<span style=\"color: #00d7ff; text-decoration-color: #00d7ff\">None</span>, <span style=\"color: #00af00; text-decoration-color: #00af00\">8</span>, <span style=\"color: #00af00; text-decoration-color: #00af00\">128</span>)         │     <span style=\"color: #00af00; text-decoration-color: #00af00\">1,280,000</span> │\n",
       "├─────────────────────────────────┼────────────────────────┼───────────────┤\n",
       "│ simple_rnn (<span style=\"color: #0087ff; text-decoration-color: #0087ff\">SimpleRNN</span>)          │ (<span style=\"color: #00d7ff; text-decoration-color: #00d7ff\">None</span>, <span style=\"color: #00af00; text-decoration-color: #00af00\">128</span>)            │        <span style=\"color: #00af00; text-decoration-color: #00af00\">32,896</span> │\n",
       "├─────────────────────────────────┼────────────────────────┼───────────────┤\n",
       "│ dense (<span style=\"color: #0087ff; text-decoration-color: #0087ff\">Dense</span>)                   │ (<span style=\"color: #00d7ff; text-decoration-color: #00d7ff\">None</span>, <span style=\"color: #00af00; text-decoration-color: #00af00\">1</span>)              │           <span style=\"color: #00af00; text-decoration-color: #00af00\">129</span> │\n",
       "└─────────────────────────────────┴────────────────────────┴───────────────┘\n",
       "</pre>\n"
      ],
      "text/plain": [
       "┏━━━━━━━━━━━━━━━━━━━━━━━━━━━━━━━━━┳━━━━━━━━━━━━━━━━━━━━━━━━┳━━━━━━━━━━━━━━━┓\n",
       "┃\u001b[1m \u001b[0m\u001b[1mLayer (type)                   \u001b[0m\u001b[1m \u001b[0m┃\u001b[1m \u001b[0m\u001b[1mOutput Shape          \u001b[0m\u001b[1m \u001b[0m┃\u001b[1m \u001b[0m\u001b[1m      Param #\u001b[0m\u001b[1m \u001b[0m┃\n",
       "┡━━━━━━━━━━━━━━━━━━━━━━━━━━━━━━━━━╇━━━━━━━━━━━━━━━━━━━━━━━━╇━━━━━━━━━━━━━━━┩\n",
       "│ embedding (\u001b[38;5;33mEmbedding\u001b[0m)           │ (\u001b[38;5;45mNone\u001b[0m, \u001b[38;5;34m8\u001b[0m, \u001b[38;5;34m128\u001b[0m)         │     \u001b[38;5;34m1,280,000\u001b[0m │\n",
       "├─────────────────────────────────┼────────────────────────┼───────────────┤\n",
       "│ simple_rnn (\u001b[38;5;33mSimpleRNN\u001b[0m)          │ (\u001b[38;5;45mNone\u001b[0m, \u001b[38;5;34m128\u001b[0m)            │        \u001b[38;5;34m32,896\u001b[0m │\n",
       "├─────────────────────────────────┼────────────────────────┼───────────────┤\n",
       "│ dense (\u001b[38;5;33mDense\u001b[0m)                   │ (\u001b[38;5;45mNone\u001b[0m, \u001b[38;5;34m1\u001b[0m)              │           \u001b[38;5;34m129\u001b[0m │\n",
       "└─────────────────────────────────┴────────────────────────┴───────────────┘\n"
      ]
     },
     "metadata": {},
     "output_type": "display_data"
    },
    {
     "data": {
      "text/html": [
       "<pre style=\"white-space:pre;overflow-x:auto;line-height:normal;font-family:Menlo,'DejaVu Sans Mono',consolas,'Courier New',monospace\"><span style=\"font-weight: bold\"> Total params: </span><span style=\"color: #00af00; text-decoration-color: #00af00\">1,313,027</span> (5.01 MB)\n",
       "</pre>\n"
      ],
      "text/plain": [
       "\u001b[1m Total params: \u001b[0m\u001b[38;5;34m1,313,027\u001b[0m (5.01 MB)\n"
      ]
     },
     "metadata": {},
     "output_type": "display_data"
    },
    {
     "data": {
      "text/html": [
       "<pre style=\"white-space:pre;overflow-x:auto;line-height:normal;font-family:Menlo,'DejaVu Sans Mono',consolas,'Courier New',monospace\"><span style=\"font-weight: bold\"> Trainable params: </span><span style=\"color: #00af00; text-decoration-color: #00af00\">1,313,025</span> (5.01 MB)\n",
       "</pre>\n"
      ],
      "text/plain": [
       "\u001b[1m Trainable params: \u001b[0m\u001b[38;5;34m1,313,025\u001b[0m (5.01 MB)\n"
      ]
     },
     "metadata": {},
     "output_type": "display_data"
    },
    {
     "data": {
      "text/html": [
       "<pre style=\"white-space:pre;overflow-x:auto;line-height:normal;font-family:Menlo,'DejaVu Sans Mono',consolas,'Courier New',monospace\"><span style=\"font-weight: bold\"> Non-trainable params: </span><span style=\"color: #00af00; text-decoration-color: #00af00\">0</span> (0.00 B)\n",
       "</pre>\n"
      ],
      "text/plain": [
       "\u001b[1m Non-trainable params: \u001b[0m\u001b[38;5;34m0\u001b[0m (0.00 B)\n"
      ]
     },
     "metadata": {},
     "output_type": "display_data"
    },
    {
     "data": {
      "text/html": [
       "<pre style=\"white-space:pre;overflow-x:auto;line-height:normal;font-family:Menlo,'DejaVu Sans Mono',consolas,'Courier New',monospace\"><span style=\"font-weight: bold\"> Optimizer params: </span><span style=\"color: #00af00; text-decoration-color: #00af00\">2</span> (12.00 B)\n",
       "</pre>\n"
      ],
      "text/plain": [
       "\u001b[1m Optimizer params: \u001b[0m\u001b[38;5;34m2\u001b[0m (12.00 B)\n"
      ]
     },
     "metadata": {},
     "output_type": "display_data"
    }
   ],
   "source": [
    "# Load the pre-trained model with ReLU activation\n",
    "model = load_model('simple_rnn_imdb.h5')\n",
    "model.summary()"
   ]
  },
  {
   "cell_type": "code",
   "execution_count": 4,
   "metadata": {},
   "outputs": [
    {
     "data": {
      "text/plain": [
       "[array([[ 0.11261577, -0.03284461, -0.03531605, ...,  0.00314398,\n",
       "          0.04834586, -0.06067027],\n",
       "        [ 0.0551726 , -0.02759188, -0.04663273, ...,  0.00792959,\n",
       "          0.05428239, -0.01171098],\n",
       "        [-0.01620398, -0.05229483, -0.16030432, ..., -0.10669738,\n",
       "          0.13547127,  0.03081585],\n",
       "        ...,\n",
       "        [ 0.01648317, -0.11582728,  0.0114034 , ...,  0.00684146,\n",
       "         -0.05085303,  0.01097595],\n",
       "        [ 0.04884289,  0.00445971,  0.04061916, ..., -0.01335318,\n",
       "          0.06182844,  0.05592613],\n",
       "        [-0.01070611,  0.03393163, -0.03809235, ...,  0.0197635 ,\n",
       "          0.01425475,  0.0319344 ]], dtype=float32),\n",
       " array([[-0.01572279,  0.07078341,  0.11629654, ..., -0.00633352,\n",
       "         -0.14413695, -0.06954046],\n",
       "        [-0.00073648,  0.03898988, -0.02393549, ...,  0.11178572,\n",
       "          0.12895097,  0.03509759],\n",
       "        [ 0.0124687 , -0.05718096, -0.0235105 , ...,  0.01860635,\n",
       "         -0.15039752,  0.12894332],\n",
       "        ...,\n",
       "        [ 0.0953057 ,  0.20933668,  0.06124912, ..., -0.05733433,\n",
       "          0.15457754, -0.07042868],\n",
       "        [ 0.07732241, -0.16631936, -0.14642207, ..., -0.03405229,\n",
       "          0.06007772,  0.04929035],\n",
       "        [ 0.08263486, -0.11869053, -0.05303907, ..., -0.05012784,\n",
       "         -0.024291  ,  0.03929104]], dtype=float32),\n",
       " array([[-0.05287801,  0.08089217,  0.03674977, ..., -0.08930353,\n",
       "         -0.12006032, -0.01109727],\n",
       "        [ 0.10679362, -0.01967501,  0.07703472, ...,  0.05913122,\n",
       "         -0.25378114,  0.09062666],\n",
       "        [ 0.0564261 , -0.14596578,  0.1307419 , ..., -0.08066007,\n",
       "          0.06500328, -0.02379084],\n",
       "        ...,\n",
       "        [-0.04923791,  0.06125291,  0.06964937, ..., -0.05165874,\n",
       "         -0.01312301,  0.01985274],\n",
       "        [ 0.04353448, -0.07473332,  0.02025224, ...,  0.04998679,\n",
       "         -0.13302962, -0.07371389],\n",
       "        [-0.08116346, -0.01999755,  0.08189467, ...,  0.07240181,\n",
       "          0.01379151, -0.03577636]], dtype=float32),\n",
       " array([-0.03350082, -0.03595701, -0.01095572, -0.02258593,  0.01525959,\n",
       "        -0.00462094,  0.01841564, -0.02099231, -0.0045973 , -0.00158293,\n",
       "        -0.02806945, -0.00688238, -0.02698935, -0.03427446, -0.00292849,\n",
       "        -0.02061426, -0.04535779, -0.00361169, -0.02242753, -0.00164928,\n",
       "        -0.02092985,  0.00068012,  0.00941321, -0.02359479, -0.02076807,\n",
       "        -0.0251537 , -0.03355687,  0.01110479, -0.03587528, -0.02285915,\n",
       "        -0.00875281, -0.00873572, -0.01508562, -0.03079156, -0.03434055,\n",
       "         0.01370184,  0.00713791, -0.01779239, -0.00728262, -0.05422099,\n",
       "        -0.01441178,  0.03542974, -0.03268221, -0.02766684, -0.01168074,\n",
       "        -0.01799082, -0.0131088 ,  0.03154702, -0.03119513, -0.02239974,\n",
       "         0.01238438, -0.01571926, -0.02543992,  0.02542839,  0.00319712,\n",
       "        -0.02065319,  0.01118953, -0.0036597 , -0.02307177, -0.00846881,\n",
       "        -0.01459618, -0.01685402, -0.00816323,  0.00475906,  0.00063363,\n",
       "         0.01399062,  0.00183209, -0.02023903, -0.00341443, -0.02250873,\n",
       "        -0.01740703, -0.0046011 , -0.01963573, -0.0003556 ,  0.00125513,\n",
       "         0.01056765, -0.02907683,  0.00241393, -0.01112361, -0.01117646,\n",
       "         0.01214212, -0.02696927, -0.0088228 , -0.02395336,  0.00444099,\n",
       "        -0.0024237 , -0.00090094,  0.02858885, -0.02712722,  0.00427112,\n",
       "         0.00975863, -0.01924761, -0.03178573,  0.0140951 , -0.005012  ,\n",
       "         0.01617059, -0.01803989,  0.00209494,  0.02508401, -0.00234072,\n",
       "         0.00707391, -0.01023657, -0.03181662, -0.00330086,  0.01461518,\n",
       "         0.01960012, -0.01335019, -0.02553903, -0.01234556, -0.02535522,\n",
       "        -0.01461108, -0.00370878, -0.02574165, -0.02610052,  0.02359608,\n",
       "        -0.00764591, -0.0370031 , -0.0161204 ,  0.01907495, -0.0092231 ,\n",
       "         0.02630517,  0.00723621, -0.02116093, -0.00590129, -0.02555781,\n",
       "        -0.0049457 , -0.00603364, -0.0183365 ], dtype=float32),\n",
       " array([[-0.4637802 ],\n",
       "        [ 0.04964759],\n",
       "        [ 0.23777635],\n",
       "        [-0.1223536 ],\n",
       "        [-0.16397947],\n",
       "        [ 0.20442225],\n",
       "        [-0.1144334 ],\n",
       "        [-0.361999  ],\n",
       "        [-0.01545257],\n",
       "        [-0.23063782],\n",
       "        [-0.14159825],\n",
       "        [-0.346744  ],\n",
       "        [-0.1271998 ],\n",
       "        [-0.4141072 ],\n",
       "        [-0.2031382 ],\n",
       "        [-0.14641033],\n",
       "        [ 0.07875422],\n",
       "        [-0.12853678],\n",
       "        [ 0.27604046],\n",
       "        [-0.13476026],\n",
       "        [ 0.05445296],\n",
       "        [-0.16087207],\n",
       "        [-0.08461682],\n",
       "        [-1.3166574 ],\n",
       "        [-0.02197776],\n",
       "        [ 0.02011229],\n",
       "        [-0.1278906 ],\n",
       "        [ 0.07919069],\n",
       "        [-0.06519648],\n",
       "        [-0.10968506],\n",
       "        [ 0.1356438 ],\n",
       "        [ 0.13093731],\n",
       "        [-0.18992215],\n",
       "        [ 0.37922713],\n",
       "        [-0.1046904 ],\n",
       "        [-0.22081482],\n",
       "        [-0.46721452],\n",
       "        [-0.18383335],\n",
       "        [ 0.22149187],\n",
       "        [-0.04132993],\n",
       "        [ 0.15203981],\n",
       "        [ 0.10901272],\n",
       "        [-0.00929966],\n",
       "        [-0.14448167],\n",
       "        [-0.44935793],\n",
       "        [-0.3618011 ],\n",
       "        [-0.38591352],\n",
       "        [ 0.2461843 ],\n",
       "        [ 0.22252974],\n",
       "        [ 0.03538015],\n",
       "        [-0.01157422],\n",
       "        [ 0.13162428],\n",
       "        [-0.0984183 ],\n",
       "        [ 0.2115732 ],\n",
       "        [ 0.11370899],\n",
       "        [ 0.07135241],\n",
       "        [ 0.213983  ],\n",
       "        [ 0.13751855],\n",
       "        [ 0.04628357],\n",
       "        [ 0.13222243],\n",
       "        [ 0.1445432 ],\n",
       "        [-0.07539816],\n",
       "        [-0.20307916],\n",
       "        [-0.06022455],\n",
       "        [-1.681501  ],\n",
       "        [ 0.12536128],\n",
       "        [ 0.4448972 ],\n",
       "        [ 0.17923231],\n",
       "        [ 0.35336483],\n",
       "        [ 0.02169718],\n",
       "        [ 0.02219343],\n",
       "        [ 0.12986587],\n",
       "        [-0.09095225],\n",
       "        [ 0.04573045],\n",
       "        [ 0.16699766],\n",
       "        [ 0.12502925],\n",
       "        [-0.05777415],\n",
       "        [-0.1403568 ],\n",
       "        [ 0.48064557],\n",
       "        [ 0.11023649],\n",
       "        [ 0.18400475],\n",
       "        [ 0.01492169],\n",
       "        [ 0.00291375],\n",
       "        [-1.0131078 ],\n",
       "        [-0.21193027],\n",
       "        [-0.02555268],\n",
       "        [ 0.05998527],\n",
       "        [-0.17434996],\n",
       "        [ 0.05860839],\n",
       "        [-0.19066425],\n",
       "        [-0.03286947],\n",
       "        [ 0.07856494],\n",
       "        [-0.00427422],\n",
       "        [-0.09633654],\n",
       "        [-0.07381446],\n",
       "        [ 0.12410659],\n",
       "        [-0.23188204],\n",
       "        [ 0.09108507],\n",
       "        [ 0.02067079],\n",
       "        [ 0.25353572],\n",
       "        [-0.2113952 ],\n",
       "        [ 0.16570745],\n",
       "        [-0.13283981],\n",
       "        [-0.06831375],\n",
       "        [ 0.17608535],\n",
       "        [-0.0183423 ],\n",
       "        [-0.24725659],\n",
       "        [-0.12020575],\n",
       "        [ 0.11168701],\n",
       "        [-0.2235977 ],\n",
       "        [-0.08563977],\n",
       "        [-0.26198015],\n",
       "        [-0.54795575],\n",
       "        [-0.03263675],\n",
       "        [-0.02154647],\n",
       "        [ 0.13283893],\n",
       "        [ 0.987165  ],\n",
       "        [-0.10059243],\n",
       "        [ 0.07486849],\n",
       "        [-0.07995552],\n",
       "        [ 0.26763555],\n",
       "        [-0.21063054],\n",
       "        [ 0.10683122],\n",
       "        [ 0.7002814 ],\n",
       "        [-0.7131825 ],\n",
       "        [-0.01252249],\n",
       "        [ 0.16397473],\n",
       "        [ 0.12758297]], dtype=float32),\n",
       " array([-0.83460516], dtype=float32)]"
      ]
     },
     "execution_count": 4,
     "metadata": {},
     "output_type": "execute_result"
    }
   ],
   "source": [
    "model.get_weights()"
   ]
  },
  {
   "cell_type": "code",
   "execution_count": 5,
   "metadata": {},
   "outputs": [],
   "source": [
    "# Step 2 : Helper Functions\n",
    "# Function to decode reviews\n",
    "def decode_review(encoded_review):\n",
    "    return ' '.join([reverse_word_index.get(i-3,'?') for i in encoded_review])\n",
    "\n",
    "# Function to preprocess user input\n",
    "def preprocess_text(text):\n",
    "    words = text.lower().split()\n",
    "    encoded_review = [word_index.get(word,2)+3 for word in words]\n",
    "    padded_review = sequence.pad_sequences([encoded_review], maxlen=500)\n",
    "    return padded_review"
   ]
  },
  {
   "cell_type": "code",
   "execution_count": 6,
   "metadata": {},
   "outputs": [],
   "source": [
    "# Step 3 : Prediction Function\n",
    "\n",
    "def predict_sentiment(review):\n",
    "    preprocessed_input=preprocess_text(review)\n",
    "\n",
    "    prediction=model.predict(preprocessed_input)\n",
    "\n",
    "    sentiment = 'Positive' if prediction[0][0]>0.5 else 'Negative'\n",
    "\n",
    "    return sentiment,prediction[0][0]"
   ]
  },
  {
   "cell_type": "code",
   "execution_count": 11,
   "metadata": {},
   "outputs": [
    {
     "name": "stdout",
     "output_type": "stream",
     "text": [
      "\u001b[1m1/1\u001b[0m \u001b[32m━━━━━━━━━━━━━━━━━━━━\u001b[0m\u001b[37m\u001b[0m \u001b[1m0s\u001b[0m 160ms/step\n",
      "Review: This movie was fanastic.The acting was great and the  plot was thrilling.\n",
      "Sentiment: Negative\n",
      "Prediction Score: 0.39431631565093994\n"
     ]
    }
   ],
   "source": [
    "# Step 4 : User Input and Prediction\n",
    "# Example review for prediction\n",
    "example_review = \"This movie was fanastic.The acting was great and the  plot was thrilling.\"\n",
    "\n",
    "sentiment,score=predict_sentiment(example_review)\n",
    "\n",
    "print(f'Review: {example_review}')\n",
    "print(f'Sentiment: {sentiment}')\n",
    "print(f'Prediction Score: {score}')"
   ]
  },
  {
   "cell_type": "code",
   "execution_count": null,
   "metadata": {},
   "outputs": [],
   "source": []
  }
 ],
 "metadata": {
  "kernelspec": {
   "display_name": "Python (clean_env)",
   "language": "python",
   "name": "clean_env"
  },
  "language_info": {
   "codemirror_mode": {
    "name": "ipython",
    "version": 3
   },
   "file_extension": ".py",
   "mimetype": "text/x-python",
   "name": "python",
   "nbconvert_exporter": "python",
   "pygments_lexer": "ipython3",
   "version": "3.9.21"
  }
 },
 "nbformat": 4,
 "nbformat_minor": 2
}
